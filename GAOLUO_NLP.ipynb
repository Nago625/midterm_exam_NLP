{
  "nbformat": 4,
  "nbformat_minor": 0,
  "metadata": {
    "colab": {
      "provenance": [],
      "include_colab_link": true
    },
    "kernelspec": {
      "name": "python3",
      "display_name": "Python 3"
    },
    "language_info": {
      "name": "python"
    }
  },
  "cells": [
    {
      "cell_type": "markdown",
      "metadata": {
        "id": "view-in-github",
        "colab_type": "text"
      },
      "source": [
        "<a href=\"https://colab.research.google.com/github/Nago625/midterm_exam_NLP/blob/main/GAOLUO_NLP.ipynb\" target=\"_parent\"><img src=\"https://colab.research.google.com/assets/colab-badge.svg\" alt=\"Open In Colab\"/></a>"
      ]
    },
    {
      "cell_type": "code",
      "execution_count": null,
      "metadata": {
        "colab": {
          "base_uri": "https://localhost:8080/"
        },
        "id": "eWD7HyUV-qSZ",
        "outputId": "f4cabc75-64fe-451e-99ed-6f986d9b2877"
      },
      "outputs": [
        {
          "output_type": "stream",
          "name": "stdout",
          "text": [
            "\u001b[2K   \u001b[90m━━━━━━━━━━━━━━━━━━━━━━━━━━━━━━━━━━━━━━━━\u001b[0m \u001b[32m491.2/491.2 kB\u001b[0m \u001b[31m5.4 MB/s\u001b[0m eta \u001b[36m0:00:00\u001b[0m\n",
            "\u001b[2K   \u001b[90m━━━━━━━━━━━━━━━━━━━━━━━━━━━━━━━━━━━━━━━━\u001b[0m \u001b[32m363.4/363.4 MB\u001b[0m \u001b[31m3.5 MB/s\u001b[0m eta \u001b[36m0:00:00\u001b[0m\n",
            "\u001b[2K   \u001b[90m━━━━━━━━━━━━━━━━━━━━━━━━━━━━━━━━━━━━━━━━\u001b[0m \u001b[32m13.8/13.8 MB\u001b[0m \u001b[31m49.7 MB/s\u001b[0m eta \u001b[36m0:00:00\u001b[0m\n",
            "\u001b[2K   \u001b[90m━━━━━━━━━━━━━━━━━━━━━━━━━━━━━━━━━━━━━━━━\u001b[0m \u001b[32m24.6/24.6 MB\u001b[0m \u001b[31m33.2 MB/s\u001b[0m eta \u001b[36m0:00:00\u001b[0m\n",
            "\u001b[2K   \u001b[90m━━━━━━━━━━━━━━━━━━━━━━━━━━━━━━━━━━━━━━━━\u001b[0m \u001b[32m883.7/883.7 kB\u001b[0m \u001b[31m18.3 MB/s\u001b[0m eta \u001b[36m0:00:00\u001b[0m\n",
            "\u001b[2K   \u001b[90m━━━━━━━━━━━━━━━━━━━━━━━━━━━━━━━━━━━━━━━━\u001b[0m \u001b[32m664.8/664.8 MB\u001b[0m \u001b[31m2.8 MB/s\u001b[0m eta \u001b[36m0:00:00\u001b[0m\n",
            "\u001b[2K   \u001b[90m━━━━━━━━━━━━━━━━━━━━━━━━━━━━━━━━━━━━━━━━\u001b[0m \u001b[32m211.5/211.5 MB\u001b[0m \u001b[31m6.1 MB/s\u001b[0m eta \u001b[36m0:00:00\u001b[0m\n",
            "\u001b[2K   \u001b[90m━━━━━━━━━━━━━━━━━━━━━━━━━━━━━━━━━━━━━━━━\u001b[0m \u001b[32m56.3/56.3 MB\u001b[0m \u001b[31m12.6 MB/s\u001b[0m eta \u001b[36m0:00:00\u001b[0m\n",
            "\u001b[2K   \u001b[90m━━━━━━━━━━━━━━━━━━━━━━━━━━━━━━━━━━━━━━━━\u001b[0m \u001b[32m127.9/127.9 MB\u001b[0m \u001b[31m7.5 MB/s\u001b[0m eta \u001b[36m0:00:00\u001b[0m\n",
            "\u001b[2K   \u001b[90m━━━━━━━━━━━━━━━━━━━━━━━━━━━━━━━━━━━━━━━━\u001b[0m \u001b[32m207.5/207.5 MB\u001b[0m \u001b[31m5.9 MB/s\u001b[0m eta \u001b[36m0:00:00\u001b[0m\n",
            "\u001b[2K   \u001b[90m━━━━━━━━━━━━━━━━━━━━━━━━━━━━━━━━━━━━━━━━\u001b[0m \u001b[32m21.1/21.1 MB\u001b[0m \u001b[31m80.5 MB/s\u001b[0m eta \u001b[36m0:00:00\u001b[0m\n",
            "\u001b[2K   \u001b[90m━━━━━━━━━━━━━━━━━━━━━━━━━━━━━━━━━━━━━━━━\u001b[0m \u001b[32m116.3/116.3 kB\u001b[0m \u001b[31m8.8 MB/s\u001b[0m eta \u001b[36m0:00:00\u001b[0m\n",
            "\u001b[2K   \u001b[90m━━━━━━━━━━━━━━━━━━━━━━━━━━━━━━━━━━━━━━━━\u001b[0m \u001b[32m183.9/183.9 kB\u001b[0m \u001b[31m13.6 MB/s\u001b[0m eta \u001b[36m0:00:00\u001b[0m\n",
            "\u001b[2K   \u001b[90m━━━━━━━━━━━━━━━━━━━━━━━━━━━━━━━━━━━━━━━━\u001b[0m \u001b[32m143.5/143.5 kB\u001b[0m \u001b[31m10.3 MB/s\u001b[0m eta \u001b[36m0:00:00\u001b[0m\n",
            "\u001b[2K   \u001b[90m━━━━━━━━━━━━━━━━━━━━━━━━━━━━━━━━━━━━━━━━\u001b[0m \u001b[32m194.8/194.8 kB\u001b[0m \u001b[31m14.1 MB/s\u001b[0m eta \u001b[36m0:00:00\u001b[0m\n",
            "\u001b[?25h\u001b[31mERROR: pip's dependency resolver does not currently take into account all the packages that are installed. This behaviour is the source of the following dependency conflicts.\n",
            "gcsfs 2025.3.2 requires fsspec==2025.3.2, but you have fsspec 2024.12.0 which is incompatible.\u001b[0m\u001b[31m\n",
            "\u001b[0m"
          ]
        },
        {
          "output_type": "stream",
          "name": "stderr",
          "text": [
            "[nltk_data] Downloading package punkt to /root/nltk_data...\n",
            "[nltk_data]   Unzipping tokenizers/punkt.zip.\n",
            "[nltk_data] Downloading package stopwords to /root/nltk_data...\n",
            "[nltk_data]   Unzipping corpora/stopwords.zip.\n",
            "[nltk_data] Downloading package punkt_tab to /root/nltk_data...\n",
            "[nltk_data]   Unzipping tokenizers/punkt_tab.zip.\n"
          ]
        }
      ],
      "source": [
        "!pip install datasets nltk torch scikit-learn matplotlib --quiet\n",
        "\n",
        "import nltk\n",
        "nltk.download('punkt')\n",
        "nltk.download('stopwords')\n",
        "nltk.download('punkt_tab')\n",
        "\n",
        "import re, random\n",
        "import numpy as np\n",
        "import pandas as pd\n",
        "import torch\n",
        "from torch import nn, optim\n",
        "from torch.utils.data import Dataset, DataLoader\n",
        "from collections import Counter, defaultdict\n",
        "from datasets import load_dataset\n",
        "from nltk.corpus import stopwords\n",
        "from nltk.tokenize import word_tokenize\n",
        "from sklearn.metrics.pairwise import cosine_similarity\n",
        "import matplotlib.pyplot as plt"
      ]
    },
    {
      "cell_type": "code",
      "source": [
        "# 테이터전처리\n",
        "raw = load_dataset(\"amazon_polarity\", split=\"train[:5000]\")\n",
        "df  = pd.DataFrame({\n",
        "    \"content\": raw[\"content\"],\n",
        "    \"label\":   raw[\"label\"]\n",
        "})\n",
        "\n",
        "df[\"content\"] = df[\"content\"].str.replace(r\"<.*?>\", \" \", regex=True).str.strip()\n",
        "\n",
        "stop_words = set(stopwords.words('english'))\n",
        "def preprocess(text):\n",
        "    text = text.lower()\n",
        "    text = re.sub(r'[^a-z0-9\\s]', ' ', text)\n",
        "    tokens = word_tokenize(text)\n",
        "    return [t for t in tokens if t not in stop_words and len(t)>1]\n",
        "\n",
        "df[\"tokens\"] = df[\"content\"].apply(preprocess)\n",
        "print(\"样例 tokens:\", df[\"tokens\"].iloc[0])\n"
      ],
      "metadata": {
        "colab": {
          "base_uri": "https://localhost:8080/",
          "height": 414,
          "referenced_widgets": [
            "6905db7e60cd4c14932b972075ca64bd",
            "5307da1df73b4b559e842fcf365937a2",
            "b286f9bb8b0b4886a1412f3db7cd32bf",
            "0e9a10f06da34d638160cd5035d083ed",
            "6e42f377b62748a0803af496f9a246a9",
            "3ecd12f58f824594b9222ef500d6a520",
            "0446caff7a9b471da290da3add57324f",
            "eeecf81ccc1d47799847f5806200d946",
            "995c186a37b54f4d9c1c181db9bdbe95",
            "d632aa791b3343b192dffdd0e82abcc3",
            "c12480f8ff9c453dbc7f65957a1dbb72",
            "175b07ef7dbf4d10beb9ad5c98ca7a0e",
            "318df7d7d8b449eba7aafb969d849c08",
            "0de0b3117a9e4e63a2549d7d325ac69d",
            "86643e80df4f4e339d44ead96cef969a",
            "b660d62517314d2bbc9702b8bd546d13",
            "17f715ce7e15469090329da575a96d75",
            "68b79aaac4184a90b6f4aa861d5575cf",
            "71ed3abe994e49aeb1109b860ad43cf8",
            "61daf4d0d0064433b632572af576804c",
            "d22bdf54fa2540959c1417e8d6405aed",
            "861d7a1fd6804143854dce3007449338",
            "e55f0fe6541c4e1db690098489c4b03d",
            "0f8e3bf8f6ef48eba22d5cba62e5a813",
            "817e6c22a2d6472a907ae910797b61c6",
            "0ad3d7ae262e47f19048b6e606759eaf",
            "adcc9a648aa74c8ea62827ec2e395e71",
            "8f174e085ce842c8a9a490b275549ecb",
            "069253a2d1d44f83af4eafd06d22b9cf",
            "e8e33ccbcd574473bef32f74fb5d6de2",
            "b792f46671354a3ba1293bbd503cb3ae",
            "8bb9a5507f064545bcc3016c84d1034c",
            "e6cf708f78384973b96f968e6f35cb6e",
            "8803f7c3683240f983b8d9f27e67e88b",
            "e6bff4c2df654e20a724492cb5c642cc",
            "41819cbadd2749d4aaf1b0def8e2459a",
            "c0eb80f480624716a38dc9346e33d245",
            "39c80267d5d7465198ec3d6cab1ab41c",
            "f8247980109f4b50b9dca35bf6228b83",
            "df7154a4206d4715be3b1005324a55f1",
            "2509b243868f4df69820e43c91a9e4d0",
            "7c66231330d5472684cd02353bbda086",
            "fdc6d5380bf7438bba5f1647a498ad03",
            "c3283b16e6c144c782443279518d1de1",
            "d2ef3ed2d52a474082976e68c28681a8",
            "25e9dbf5606748778a79a767f30aa2f8",
            "704ac7efe1824df3a1f1ba979487e638",
            "b57afa276b544a9d82dbaef653327762",
            "41ea946b74b841898760c78ac64eef6e",
            "d31d073348234734bad75fa313ce428a",
            "23d1d152e2c84aac8292a982b3355778",
            "5706fcd67ee8478abe86add2b99cab78",
            "9054d663366346e1befb54be816989ae",
            "6c602667d9d9440dab3491e7cf02944e",
            "07da6b2b7be141ce9198bef4fe9c9c9c",
            "6ec07d4c622f43a1b46718072f5904fd",
            "35d38b8d1a644b42b6f9c24c94d0e2ff",
            "a95867cde56a49e0a7edd6b5ced8ba3a",
            "47f1d1810be54b4c9fd78ad61f6f073d",
            "d45a451ae9c3496d8ee264401ab289ae",
            "467885aa5d9c4990ab43572cbb55832a",
            "7c5e8033bbf247d3abcf8b89f7f17af5",
            "1fb673f0f67d4e1b90e5e8445c6dc84d",
            "22e3990040104a40811967928c1b2d86",
            "28c923b11f2745d0a253ec24dfd6e3ab",
            "44294b3c2473413c9decdae1b5cbac14",
            "40d816faef0544cf81b47f2d6ddee265",
            "29ed57c37cdc4dfabd0dedc626249fb5",
            "ccf7678e200b45d5868971ef8ef83024",
            "8c05225270a8404fbd00d8edf0e763c9",
            "47075212d16548a4a6fe728a69120a05",
            "fecc5665f88644b5acb813ca9e72f2d4",
            "5d53a7fbc0db4a9e8936cf7b6afa7a08",
            "ca03cac4f83544d8af836285e1cea97d",
            "1be900bada624c85a8597d4d2ade6916",
            "5551273edfb24f6baef62ed7b5ea9df3",
            "2f3a92e6fcea49ccbfb86e7415341d08",
            "65e2de6dad5a41c185991c0be7b4f79d",
            "1fbb53088dbe49f999978fec01681464",
            "c8f1246a61d8498fbd5d5804f84ab9d9",
            "814ba1d2e50b4c09ac7e258896a8ac3d",
            "1b6a796065634f7e83d60ee1da3572d8",
            "a2f036371cea4123b90801217441e2c8",
            "3889e00ba6b449ab8b2836d057ac4ada",
            "4aa5bfddb9b246dba12bf9faec1e3ab6",
            "e9e71b77cfec438fa65598c9ffe60d58",
            "2976014de9814792b26029103b94a954",
            "f9511d3c96cd4ec08a408bf89ee2890e"
          ]
        },
        "id": "91r73Hd4JM8f",
        "outputId": "b5275e66-fbed-4ff0-cb95-9e60897da320"
      },
      "execution_count": null,
      "outputs": [
        {
          "output_type": "stream",
          "name": "stderr",
          "text": [
            "/usr/local/lib/python3.11/dist-packages/huggingface_hub/utils/_auth.py:94: UserWarning: \n",
            "The secret `HF_TOKEN` does not exist in your Colab secrets.\n",
            "To authenticate with the Hugging Face Hub, create a token in your settings tab (https://huggingface.co/settings/tokens), set it as secret in your Google Colab and restart your session.\n",
            "You will be able to reuse this secret in all of your notebooks.\n",
            "Please note that authentication is recommended but still optional to access public models or datasets.\n",
            "  warnings.warn(\n"
          ]
        },
        {
          "output_type": "display_data",
          "data": {
            "text/plain": [
              "README.md:   0%|          | 0.00/6.81k [00:00<?, ?B/s]"
            ],
            "application/vnd.jupyter.widget-view+json": {
              "version_major": 2,
              "version_minor": 0,
              "model_id": "6905db7e60cd4c14932b972075ca64bd"
            }
          },
          "metadata": {}
        },
        {
          "output_type": "display_data",
          "data": {
            "text/plain": [
              "train-00000-of-00004.parquet:   0%|          | 0.00/260M [00:00<?, ?B/s]"
            ],
            "application/vnd.jupyter.widget-view+json": {
              "version_major": 2,
              "version_minor": 0,
              "model_id": "175b07ef7dbf4d10beb9ad5c98ca7a0e"
            }
          },
          "metadata": {}
        },
        {
          "output_type": "display_data",
          "data": {
            "text/plain": [
              "train-00001-of-00004.parquet:   0%|          | 0.00/258M [00:00<?, ?B/s]"
            ],
            "application/vnd.jupyter.widget-view+json": {
              "version_major": 2,
              "version_minor": 0,
              "model_id": "e55f0fe6541c4e1db690098489c4b03d"
            }
          },
          "metadata": {}
        },
        {
          "output_type": "display_data",
          "data": {
            "text/plain": [
              "train-00002-of-00004.parquet:   0%|          | 0.00/255M [00:00<?, ?B/s]"
            ],
            "application/vnd.jupyter.widget-view+json": {
              "version_major": 2,
              "version_minor": 0,
              "model_id": "8803f7c3683240f983b8d9f27e67e88b"
            }
          },
          "metadata": {}
        },
        {
          "output_type": "display_data",
          "data": {
            "text/plain": [
              "train-00003-of-00004.parquet:   0%|          | 0.00/254M [00:00<?, ?B/s]"
            ],
            "application/vnd.jupyter.widget-view+json": {
              "version_major": 2,
              "version_minor": 0,
              "model_id": "d2ef3ed2d52a474082976e68c28681a8"
            }
          },
          "metadata": {}
        },
        {
          "output_type": "display_data",
          "data": {
            "text/plain": [
              "test-00000-of-00001.parquet:   0%|          | 0.00/117M [00:00<?, ?B/s]"
            ],
            "application/vnd.jupyter.widget-view+json": {
              "version_major": 2,
              "version_minor": 0,
              "model_id": "6ec07d4c622f43a1b46718072f5904fd"
            }
          },
          "metadata": {}
        },
        {
          "output_type": "display_data",
          "data": {
            "text/plain": [
              "Generating train split:   0%|          | 0/3600000 [00:00<?, ? examples/s]"
            ],
            "application/vnd.jupyter.widget-view+json": {
              "version_major": 2,
              "version_minor": 0,
              "model_id": "40d816faef0544cf81b47f2d6ddee265"
            }
          },
          "metadata": {}
        },
        {
          "output_type": "display_data",
          "data": {
            "text/plain": [
              "Generating test split:   0%|          | 0/400000 [00:00<?, ? examples/s]"
            ],
            "application/vnd.jupyter.widget-view+json": {
              "version_major": 2,
              "version_minor": 0,
              "model_id": "65e2de6dad5a41c185991c0be7b4f79d"
            }
          },
          "metadata": {}
        },
        {
          "output_type": "stream",
          "name": "stdout",
          "text": [
            "样例 tokens: ['sound', 'track', 'beautiful', 'paints', 'senery', 'mind', 'well', 'would', 'recomend', 'even', 'people', 'hate', 'vid', 'game', 'music', 'played', 'game', 'chrono', 'cross', 'games', 'ever', 'played', 'best', 'music', 'backs', 'away', 'crude', 'keyboarding', 'takes', 'fresher', 'step', 'grate', 'guitars', 'soulful', 'orchestras', 'would', 'impress', 'anyone', 'cares', 'listen']\n"
          ]
        }
      ]
    },
    {
      "cell_type": "code",
      "source": [
        "#2.TF–IDF 특성\n",
        "documents = df[\"tokens\"].tolist()\n",
        "N = len(documents)\n",
        "\n",
        "# 문서 빈도(DF) 계산\n",
        "df_counts = defaultdict(int)\n",
        "for doc in documents:\n",
        "    for w in set(doc):\n",
        "        df_counts[w] += 1\n",
        "\n",
        "# 단어장 및 인덱스 매핑\n",
        "vocab_tfidf    = sorted(df_counts.keys())\n",
        "word2idx_tfidf = {w:i for i,w in enumerate(vocab_tfidf)}\n",
        "\n",
        "# IDF 벡터 계산\n",
        "idf = np.array([ np.log(N / (df_counts[w] + 1)) for w in vocab_tfidf])\n",
        "\n",
        "# TF–IDF 행렬 생성\n",
        "tfidf_matrix = np.zeros((N, len(vocab_tfidf)), dtype=np.float32)\n",
        "for i, doc in enumerate(documents):\n",
        "    cnt = Counter(doc)\n",
        "    L = len(doc)\n",
        "    for w, c in cnt.items():\n",
        "        j = word2idx_tfidf[w]\n",
        "        tf = c / L\n",
        "        tfidf_matrix[i, j] = tf * idf[j]\n",
        "\n",
        "print(\"TF–IDF 행렬 형태:\", tfidf_matrix.shape)"
      ],
      "metadata": {
        "colab": {
          "base_uri": "https://localhost:8080/"
        },
        "id": "fBGb7GJhJT3K",
        "outputId": "cbf0a3b2-54a5-474a-94a0-b18d9d08d9d7"
      },
      "execution_count": null,
      "outputs": [
        {
          "output_type": "stream",
          "name": "stdout",
          "text": [
            "TF–IDF 행렬 형태: (5000, 20569)\n"
          ]
        }
      ]
    },
    {
      "cell_type": "code",
      "source": [
        "# Skip-gram\n",
        "# 3.1 단어장 및 (중심 단어, 주변 단어) 쌍 만들기\n",
        "all_tokens = [tok for doc in documents for tok in doc]\n",
        "vocab_size = 5000\n",
        "top_vocab  = [w for w,_ in Counter(all_tokens).most_common(vocab_size)]\n",
        "word2idx   = {w:i for i,w in enumerate(top_vocab)}\n",
        "\n",
        "pairs = []\n",
        "window = 2\n",
        "for tokens in documents:\n",
        "    idxs = [word2idx[t] for t in tokens if t in word2idx]\n",
        "    for center_pos, c in enumerate(idxs):\n",
        "        for pos in range(max(0, center_pos-window), min(len(idxs), center_pos+window+1)):\n",
        "            if pos != center_pos:\n",
        "                pairs.append((c, idxs[pos]))\n"
      ],
      "metadata": {
        "id": "737rNJqWJ3vC"
      },
      "execution_count": null,
      "outputs": []
    },
    {
      "cell_type": "code",
      "source": [
        "freq = np.array([ Counter(all_tokens)[w] for w in top_vocab ], dtype=np.float32)\n",
        "freq = freq**0.75\n",
        "unigram_dist = freq / freq.sum()\n",
        "\n",
        "class SGNSDataset(Dataset):\n",
        "    def __init__(self, pairs, K=5):\n",
        "        self.pairs = pairs\n",
        "        self.K = K\n",
        "        self.dist = torch.tensor(unigram_dist)\n",
        "    def __len__(self): return len(self.pairs)\n",
        "    def __getitem__(self, idx):\n",
        "        c, o = self.pairs[idx]\n",
        "        negs = torch.multinomial(self.dist, self.K, replacement=True)\n",
        "        return torch.tensor(c), torch.tensor(o), negs"
      ],
      "metadata": {
        "id": "c2wfGlA3J7cc"
      },
      "execution_count": null,
      "outputs": []
    },
    {
      "cell_type": "code",
      "source": [
        "class SkipGramNS(nn.Module):\n",
        "    def __init__(self, V, D):  # D will represent embed_dim here\n",
        "        super().__init__()\n",
        "        self.in_embed  = nn.Embedding(V, D)\n",
        "        self.out_embed = nn.Embedding(V, D)\n",
        "        nn.init.xavier_uniform_(self.in_embed.weight)\n",
        "        nn.init.xavier_uniform_(self.out_embed.weight)\n",
        "    def forward(self, c, o, negs):\n",
        "        v_c = self.in_embed(c)                   # (B,D)\n",
        "        u_o = self.out_embed(o)                  # (B,D)\n",
        "        pos = (v_c*u_o).sum(1)                   # (B,)\n",
        "        # Replace torch.logsigmoid with torch.nn.functional.logsigmoid\n",
        "        pos_loss = -torch.nn.functional.logsigmoid(pos).mean()\n",
        "\n",
        "        u_n = self.out_embed(negs)               # (B,K,D)\n",
        "        neg_score = torch.bmm(u_n.neg(), v_c.unsqueeze(2)).squeeze(2)  # (B,K)\n",
        "        # Replace torch.logsigmoid with torch.nn.functional.logsigmoid\n",
        "        neg_loss  = -torch.nn.functional.logsigmoid(-neg_score).mean()\n",
        "        return pos_loss + neg_loss"
      ],
      "metadata": {
        "id": "U8AvwsoILdDC"
      },
      "execution_count": null,
      "outputs": []
    },
    {
      "cell_type": "code",
      "source": [
        "# 3.4 학습\n",
        "ds = SGNSDataset(pairs, K=5)\n",
        "loader = DataLoader(ds, batch_size=512, shuffle=True)\n",
        "model = SkipGramNS(vocab_size, 100)  # 임베딩 차원(embed_dim) 100을 직접 지정\n",
        "opt   = optim.Adam(model.parameters(), lr=1e-3)\n",
        "\n",
        "for epoch in range(1, 6):\n",
        "    total = 0\n",
        "    for c, o, negs in loader:\n",
        "        opt.zero_grad()\n",
        "        loss = model(c, o, negs)\n",
        "        loss.backward()\n",
        "        opt.step()\n",
        "        total += loss.item()\n",
        "    print(f\"Epoch {epoch} Loss: {total/len(loader):.4f}\")\n",
        "\n",
        "# 3.5 학습된 단어 임베딩 추출\n",
        "W_in = model.in_embed.weight.data.cpu().numpy()\n"
      ],
      "metadata": {
        "colab": {
          "base_uri": "https://localhost:8080/"
        },
        "id": "RtlRBGngJ_eb",
        "outputId": "11aadff9-965e-4ff7-a4aa-6bde7a24ea00"
      },
      "execution_count": null,
      "outputs": [
        {
          "output_type": "stream",
          "name": "stdout",
          "text": [
            "Epoch 1 Loss: 0.3017\n",
            "Epoch 2 Loss: 0.0055\n",
            "Epoch 3 Loss: 0.0013\n",
            "Epoch 4 Loss: 0.0005\n",
            "Epoch 5 Loss: 0.0002\n"
          ]
        }
      ]
    },
    {
      "cell_type": "code",
      "source": [
        "def doc2vec(tokens):\n",
        "    vecs = [W_in[word2idx[w]] for w in tokens if w in word2idx]\n",
        "    return np.mean(vecs, axis=0) if vecs else np.zeros(W_in.shape[1])\n",
        "\n",
        "X_sg = np.vstack(df[\"tokens\"].apply(doc2vec))\n",
        "print(\"Skip-gram 문서 벡터 형태:\", X_sg.shape)\n"
      ],
      "metadata": {
        "colab": {
          "base_uri": "https://localhost:8080/"
        },
        "id": "TiRgSgNrKBAZ",
        "outputId": "18914a55-0e78-486d-b5cf-4f7102aec147"
      },
      "execution_count": null,
      "outputs": [
        {
          "output_type": "stream",
          "name": "stdout",
          "text": [
            "Skip-gram 문서 벡터 형태: (5000, 100)\n"
          ]
        }
      ]
    },
    {
      "cell_type": "code",
      "source": [
        "from sklearn.model_selection import train_test_split\n",
        "from sklearn.linear_model import LogisticRegression\n",
        "from sklearn.metrics import accuracy_score, classification_report, ConfusionMatrixDisplay\n",
        "import matplotlib.pyplot as plt\n",
        "\n",
        "# 레이블 추출\n",
        "y = df[\"label\"].values  # 0=부정, 1=긍정\n",
        "\n",
        "# 문서 벡터: X_tf (TF–IDF), X_sg (Skip-gram)\n",
        "X_tf = tfidf_matrix\n",
        "X_sg = X_sg  # 앞에서 계산 완료\n",
        "\n",
        "# 학습/테스트 세트 분할\n",
        "Xtr_tf, Xte_tf, ytr, yte = train_test_split(X_tf, y, test_size=0.3, random_state=42)\n",
        "Xtr_sg, Xte_sg, _, _  = train_test_split(X_sg, y, test_size=0.3, random_state=42)\n",
        "\n",
        "# 로지스틱 회귀 모델 학습\n",
        "clf_tf = LogisticRegression(max_iter=1000).fit(Xtr_tf, ytr)\n",
        "clf_sg = LogisticRegression(max_iter=1000).fit(Xtr_sg, ytr)\n",
        "\n",
        "# 예측\n",
        "yp_tf = clf_tf.predict(Xte_tf)\n",
        "yp_sg = clf_sg.predict(Xte_sg)\n",
        "\n",
        "# 정확도 및 분류 리포트 출력\n",
        "print(\"=== TF–IDF 문서 벡터 분류 평가 ===\")\n",
        "print(f\"Accuracy: {accuracy_score(yte, yp_tf):.4f}\")\n",
        "print(classification_report(yte, yp_tf, target_names=[\"Negative\",\"Positive\"]))\n",
        "\n",
        "print(\"=== Skip-gram 문서 벡터 분류 평가 ===\")\n",
        "print(f\"Accuracy: {accuracy_score(yte, yp_sg):.4f}\")\n",
        "print(classification_report(yte, yp_sg, target_names=[\"Negative\",\"Positive\"]))\n",
        "\n",
        "# 혼동 행렬(Confusion Matrix) 시각화 비교\n",
        "fig, axes = plt.subplots(1, 2, figsize=(10, 4))\n",
        "ConfusionMatrixDisplay.from_predictions(yte, yp_tf,\n",
        "    display_labels=[\"Neg\", \"Pos\"], ax=axes[0], cmap=\"Blues\")\n",
        "axes[0].set_title(\"TF–IDF Confusion Matrix\")\n",
        "ConfusionMatrixDisplay.from_predictions(yte, yp_sg,\n",
        "    display_labels=[\"Neg\", \"Pos\"], ax=axes[1], cmap=\"Oranges\")\n",
        "axes[1].set_title(\"Skip-gram Confusion Matrix\")\n",
        "plt.tight_layout()\n",
        "plt.show()\n"
      ],
      "metadata": {
        "colab": {
          "base_uri": "https://localhost:8080/",
          "height": 815
        },
        "id": "8s78XhqYLn9D",
        "outputId": "3042770a-a33a-4c3e-834a-b840e24a0085"
      },
      "execution_count": null,
      "outputs": [
        {
          "output_type": "stream",
          "name": "stdout",
          "text": [
            "=== TF–IDF 문서 벡터 분류 평가 ===\n",
            "Accuracy: 0.8047\n",
            "              precision    recall  f1-score   support\n",
            "\n",
            "    Negative       0.77      0.90      0.83       787\n",
            "    Positive       0.86      0.70      0.77       713\n",
            "\n",
            "    accuracy                           0.80      1500\n",
            "   macro avg       0.82      0.80      0.80      1500\n",
            "weighted avg       0.81      0.80      0.80      1500\n",
            "\n",
            "=== Skip-gram 문서 벡터 분류 평가 ===\n",
            "Accuracy: 0.5247\n",
            "              precision    recall  f1-score   support\n",
            "\n",
            "    Negative       0.52      1.00      0.69       787\n",
            "    Positive       0.50      0.00      0.01       713\n",
            "\n",
            "    accuracy                           0.52      1500\n",
            "   macro avg       0.51      0.50      0.35      1500\n",
            "weighted avg       0.51      0.52      0.36      1500\n",
            "\n"
          ]
        },
        {
          "output_type": "display_data",
          "data": {
            "text/plain": [
              "<Figure size 1000x400 with 4 Axes>"
            ],
            "image/png": "[encoded data removed]"
          },
          "metadata": {}
        }
      ]
    },
    {
      "cell_type": "code",
      "source": [
        "from numpy.linalg import norm\n",
        "\n",
        "def retrieve_tfidf(query, top_k=5):\n",
        "    qtoks = preprocess(query)\n",
        "    # 쿼리 벡터 생성\n",
        "    qcnt = Counter(qtoks)\n",
        "    qvec = np.zeros(len(vocab_tfidf), dtype=np.float32)\n",
        "    L = len(qtoks)\n",
        "    for w, c in qcnt.items():\n",
        "        if w in word2idx_tfidf:\n",
        "            j = word2idx_tfidf[w]\n",
        "            qvec[j] = (c/L) * idf[j]\n",
        "    sims = cosine_similarity(tfidf_matrix, qvec.reshape(1, -1)).flatten()\n",
        "    idxs = sims.argsort()[::-1][:top_k]\n",
        "    return list(zip(idxs, sims[idxs]))\n",
        "\n",
        "def retrieve_sg(query, top_k=5):\n",
        "    qtoks = preprocess(query)\n",
        "    qvec  = doc2vec(qtoks)\n",
        "    sims  = X_sg.dot(qvec) / (norm(X_sg, axis=1) * norm(qvec) + 1e-8)\n",
        "    idxs  = sims.argsort()[::-1][:top_k]\n",
        "    return list(zip(idxs, sims[idxs]))\n",
        "\n",
        "# 예시: 검색\n",
        "query = \"I love this product, it works great!\"\n",
        "print(\"\\nTF–IDF top5:\")\n",
        "for i, score in retrieve_tfidf(query):\n",
        "    print(f\"{score:.4f}\", df.loc[i, \"content\"][:80])\n",
        "\n",
        "print(\"\\nSkip-gram top5:\")\n",
        "for i, score in retrieve_sg(query):\n",
        "    print(f\"{score:.4f}\", df.loc[i, \"content\"][:80])\n"
      ],
      "metadata": {
        "colab": {
          "base_uri": "https://localhost:8080/"
        },
        "id": "9O-VQdVeKDdb",
        "outputId": "3ecaf1f3-2bf6-454b-ebc0-dc82ca7b2ca6"
      },
      "execution_count": null,
      "outputs": [
        {
          "output_type": "stream",
          "name": "stdout",
          "text": [
            "\n",
            "TF–IDF top5:\n",
            "0.3246 Great product! I have used many a skin care product and this was by far the best\n",
            "0.3035 great boots even works great while walking up wet boards!!! buy this product you\n",
            "0.2966 Love, love, love! Got this for a \"beach read\" & fell in love with the characters\n",
            "0.2462 I received the product in a timely manner. It was as advertised. I have used it \n",
            "0.2449 this product is awesome. it hide all your secrets. I would recommend this produc\n",
            "\n",
            "Skip-gram top5:\n",
            "0.9995 great boots even works great while walking up wet boards!!! buy this product you\n",
            "0.9995 My title says it all. Love this CD. Khachaturian is a great, great Artist and he\n",
            "0.9995 This CD is a wonderful collection of Chumbawamba's music. It is consistently goo\n",
            "0.9994 great product. my husband loves it. his old one was all rusted and well used, so\n",
            "0.9994 Thanks for the great price and movie. It was really good. But of course I love t\n"
          ]
        }
      ]
    },
    {
      "cell_type": "code",
      "source": [
        "from sklearn.metrics.pairwise import cosine_similarity\n",
        "from numpy.linalg import norm\n",
        "import matplotlib.pyplot as plt\n",
        "\n",
        "# Instead of using the score from retrieve_tfidf, we need to recreate the query vector\n",
        "# using the same logic as in the retrieve_tfidf function.\n",
        "def get_query_vector_tfidf(query):\n",
        "    qtoks = preprocess(query)\n",
        "    qcnt = Counter(qtoks)\n",
        "    qvec = np.zeros(len(vocab_tfidf), dtype=np.float32)\n",
        "    L = len(qtoks)\n",
        "    for w, c in qcnt.items():\n",
        "        if w in word2idx_tfidf:\n",
        "            j = word2idx_tfidf[w]\n",
        "            qvec[j] = (c / L) * idf[j]\n",
        "    return qvec\n",
        "\n",
        "# Get the query vector in TF-IDF space\n",
        "qvec_tfidf = get_query_vector_tfidf(query)\n",
        "\n",
        "# Project qvec into the Skip-gram embedding space\n",
        "qvec_sg = doc2vec(preprocess(query))  # Re-use the doc2vec function to get the query vector\n",
        "\n",
        "# Calculate cosine similarities\n",
        "sims_tf = cosine_similarity(tfidf_matrix, qvec_tfidf.reshape(1, -1)).flatten()\n",
        "sims_sg = X_sg.dot(qvec_sg) / (norm(X_sg, axis=1) * norm(qvec_sg) + 1e-8)  # Use qvec_sg\n",
        "\n",
        "ranks = 50\n",
        "tf_sorted = np.sort(sims_tf)[::-1][:ranks]\n",
        "sg_sorted = np.sort(sims_sg)[::-1][:ranks]\n",
        "\n",
        "plt.figure(figsize=(8, 5))\n",
        "plt.plot(range(1, ranks + 1), tf_sorted, label=\"TF–IDF\")\n",
        "plt.plot(range(1, ranks + 1), sg_sorted, label=\"Skip-gram\")\n",
        "plt.xlabel(\"Rank\")\n",
        "plt.ylabel(\"Cosine Similarity\")\n",
        "plt.title(\"Top 50 Similarity Distribution Comparison\")\n",
        "plt.legend()\n",
        "plt.show()"
      ],
      "metadata": {
        "colab": {
          "base_uri": "https://localhost:8080/",
          "height": 487
        },
        "id": "x9akwfWPKFNj",
        "outputId": "7cfa2a23-02d3-4617-bea0-eebb0d743e30"
      },
      "execution_count": null,
      "outputs": [
        {
          "output_type": "display_data",
          "data": {
            "text/plain": [
              "<Figure size 800x500 with 1 Axes>"
            ],
            "image/png": "[encoded data removed]"
          },
          "metadata": {}
        }
      ]
    },
    {
      "cell_type": "code",
      "source": [
        "# ── 7. 테스트: 문장을 입력하고 두 모델로 Top-5 검색 ────────────────────────\n",
        "# 예시: I absolutely love this product and would buy it again.\n",
        "def interactive_retrieval():\n",
        "    query = input(\"테스트 문장을 입력하세요: \")\n",
        "    print(\"\\n===== TF–IDF 모델 Top 5 유사 문장 =====\")\n",
        "    for idx, score in retrieve_tfidf(query, top_k=5):\n",
        "        print(f\"[{idx:4d}] (score {score:.4f})  {df.loc[idx, 'content'][:100]}\")\n",
        "\n",
        "    print(\"\\n===== Skip-gram 모델 Top 5 유사 문장 =====\")\n",
        "    for idx, score in retrieve_sg(query, top_k=5):\n",
        "        print(f\"[{idx:4d}] (score {score:.4f})  {df.loc[idx, 'content'][:100]}\")\n",
        "\n",
        "# 테스트 함수 호출\n",
        "interactive_retrieval()\n"
      ],
      "metadata": {
        "colab": {
          "base_uri": "https://localhost:8080/"
        },
        "id": "L6MuvT9KKI4R",
        "outputId": "aa4414d3-4f2e-49ea-f46e-3c192e91f1b3"
      },
      "execution_count": null,
      "outputs": [
        {
          "output_type": "stream",
          "name": "stdout",
          "text": [
            "테스트 문장을 입력하세요: I absolutely love this product and would buy it again.\n",
            "\n",
            "===== TF–IDF 모델 Top 5 유사 문장 =====\n",
            "[ 659] (score 0.3042)  this product is awesome. it hide all your secrets. I would recommend this product to all women and m\n",
            "[3683] (score 0.2955)  I was very happy with my product I absolutely love it!!! And it was brand new at a very reasonable p\n",
            "[4361] (score 0.2579)  Love, love, love! Got this for a \"beach read\" & fell in love with the characters. Very well written \n",
            "[2169] (score 0.2269)  This CD is absolutely great. They have some great full sounding tracks. I had heard a few songs on t\n",
            "[4215] (score 0.2244)  This is TERRIBLE. I have had this for 3 hours and it is already broken. It is absolutely NOT waterpr\n",
            "\n",
            "===== Skip-gram 모델 Top 5 유사 문장 =====\n",
            "[ 176] (score 0.9995)  It is very small compared to what i thought it would be, but even so it didn't work when we got it\n",
            "[3100] (score 0.9995)  I did not like it very much...bought it because of the fact that my son went to high school with him\n",
            "[1520] (score 0.9995)  i never got this to work, it shorted out and is made out of cheap plastic. didn't come with all the \n",
            "[4470] (score 0.9995)  I would have like to have seen this book before I bought it. I never would have bought it in the con\n",
            "[ 484] (score 0.9995)  When I read something I like the whole story with some facts to back them up, but what I got out of \n"
          ]
        }
      ]
    },
    {
      "cell_type": "code",
      "source": [
        "#The quality is terrible and I regret purchasing it.\n",
        "def interactive_retrieval():\n",
        "    query = input(\"테스트 문장을 입력: \")\n",
        "    print(\"\\n===== TF–IDF Model Top 5 Similar Sentences =====\")\n",
        "    for idx, score in retrieve_tfidf(query, top_k=5):\n",
        "        print(f\"[{idx:4d}] (score {score:.4f})  {df.loc[idx, 'content'][:100]}\")\n",
        "\n",
        "    print(\"\\n===== Skip-gram Model Top 5 Similar Sentences =====\")\n",
        "    for idx, score in retrieve_sg(query, top_k=5):\n",
        "        print(f\"[{idx:4d}] (score {score:.4f})  {df.loc[idx, 'content'][:100]}\")\n",
        "interactive_retrieval()\n"
      ],
      "metadata": {
        "colab": {
          "base_uri": "https://localhost:8080/"
        },
        "id": "AerZf0IRNe8d",
        "outputId": "f950bc9a-8a00-4af0-8106-bb4a59435ad7"
      },
      "execution_count": null,
      "outputs": [
        {
          "output_type": "stream",
          "name": "stdout",
          "text": [
            "테스트 문장을 입력: The quality is terrible and I regret purchasing it.\n",
            "\n",
            "===== TF–IDF Model Top 5 Similar Sentences =====\n",
            "[1955] (score 0.3056)  I can not be certain but I don't think the other reviewers and I saw the same movie. Acting was terr\n",
            "[3024] (score 0.2712)  Transformers 3 is seriously a terrible terrible movie. yeah wow cool, special effects that i have se\n",
            "[2985] (score 0.2153)  The plot was terrible. The acting was terrible. The effects were as good as the other ones. If you w\n",
            "[4391] (score 0.2042)  Terrible book. I'm not into classics, so if you're like me, don't buy it. If you like them, buy it.\n",
            "[3725] (score 0.1957)  -Excellent little camcorder.-Very impressed with its features.-Easy to transfer your moviesto a comp\n",
            "\n",
            "===== Skip-gram Model Top 5 Similar Sentences =====\n",
            "[2823] (score 0.9993)  My negative comments have nothing to do with the content as Hodge wrote it, which is excellent. But \n",
            "[3074] (score 0.9993)  I grew up on transformers and, quite frankly, the 15 seconds of 'me grimlock' overheard in 'the Prof\n",
            "[4608] (score 0.9993)  Well - this was my son's #1 request from Santa Claus. Despite the reviews, he brought it to our hous\n",
            "[4742] (score 0.9993)  Sure, this thing is definitely more cost-effective than an iPod. But with a low price, comes lower q\n",
            "[1263] (score 0.9993)  I bought this boombox for a kitchen that I knew needed to be loud. While the Hummer MusiXstation loo\n"
          ]
        }
      ]
    },
    {
      "cell_type": "code",
      "source": [
        "#What a fantastic experience—I’m totally impressed!\n",
        "def interactive_retrieval():\n",
        "    query = input(\"테스트 문장을 입력: \")\n",
        "    print(\"\\n===== TF–IDF Model Top 5 Similar Sentences =====\")\n",
        "    for idx, score in retrieve_tfidf(query, top_k=5):\n",
        "        print(f\"[{idx:4d}] (score {score:.4f})  {df.loc[idx, 'content'][:100]}\")\n",
        "\n",
        "    print(\"\\n===== Skip-gram Model Top 5 Similar Sentences =====\")\n",
        "    for idx, score in retrieve_sg(query, top_k=5):\n",
        "        print(f\"[{idx:4d}] (score {score:.4f})  {df.loc[idx, 'content'][:100]}\")\n",
        "interactive_retrieval()\n"
      ],
      "metadata": {
        "colab": {
          "base_uri": "https://localhost:8080/"
        },
        "id": "NLdDBCupNolV",
        "outputId": "a38c3823-9e5f-42cd-b7b1-60502cd27a30"
      },
      "execution_count": null,
      "outputs": [
        {
          "output_type": "stream",
          "name": "stdout",
          "text": [
            "테스트 문장을 입력: What a fantastic experience—I’m totally impressed!\n",
            "\n",
            "===== TF–IDF Model Top 5 Similar Sentences =====\n",
            "[4381] (score 0.2444)  Well, it was very romantic and very imaginative, totally complicated and fantastic to analyze, very \n",
            "[2198] (score 0.2070)  Totally hated this book. Now, don't get me wrong, I love LJS and most of her books. Actually, all of\n",
            "[4282] (score 0.2002)  Glenn Jones has one of the most fabulous voices of all time. He's right there with Luther, Marvin an\n",
            "[3640] (score 0.1923)  This is a crap movie. Totally unbelievable, totally depraved. A piece of Hollywood junk. Don't bothe\n",
            "[3079] (score 0.1890)  I could watch this movie over and over and over again. The graphics were totally awesome. A must see\n",
            "\n",
            "===== Skip-gram Model Top 5 Similar Sentences =====\n",
            "[ 287] (score 0.9991)  Generally speaking a great book if you are not familiar with management accounting and turning heaps\n",
            "[1612] (score 0.9991)  I had experience of RTS games (Total Annihilation, Age of Empires and Empire Earth) and after I boug\n",
            "[1420] (score 0.9991)  I bought \"The Grass Is Blue\" on the strength of the rave reviews which appear below. They didn't lie\n",
            "[2433] (score 0.9991)  There are plenty of tension rods out there. The _only_ advantage of the Umbra rods is that they look\n",
            "[1793] (score 0.9991)  Felicia's journey is an excellent novel. The background to both characters is well developed. Mr. Hi\n"
          ]
        }
      ]
    },
    {
      "cell_type": "code",
      "source": [
        "#The battery lasts around eight hours on a single charge.\n",
        "def interactive_retrieval():\n",
        "    query = input(\"테스트 문장을 입력: \")\n",
        "    print(\"\\n===== TF–IDF Model Top 5 Similar Sentences =====\")\n",
        "    for idx, score in retrieve_tfidf(query, top_k=5):\n",
        "        print(f\"[{idx:4d}] (score {score:.4f})  {df.loc[idx, 'content'][:100]}\")\n",
        "\n",
        "    print(\"\\n===== Skip-gram Model Top 5 Similar Sentences =====\")\n",
        "    for idx, score in retrieve_sg(query, top_k=5):\n",
        "        print(f\"[{idx:4d}] (score {score:.4f})  {df.loc[idx, 'content'][:100]}\")\n",
        "interactive_retrieval()\n"
      ],
      "metadata": {
        "colab": {
          "base_uri": "https://localhost:8080/"
        },
        "id": "QPU4nPTCOBAl",
        "outputId": "a1cfa01f-8e00-490e-9ef7-fcf7535f00b3"
      },
      "execution_count": null,
      "outputs": [
        {
          "output_type": "stream",
          "name": "stdout",
          "text": [
            "테스트 문장을 입력: The battery lasts around eight hours on a single charge.\n",
            "\n",
            "===== TF–IDF Model Top 5 Similar Sentences =====\n",
            "[1137] (score 0.3183)  As others have experienced, mine starts a a charge/battery/charge cycle that is maddening, and proba\n",
            "[1846] (score 0.2412)  easy set up, working great - no complaints to far. it was nice to find one so cheap! we'll see how l\n",
            "[1221] (score 0.2275)  Short and simple: This charger did not charge my laptop's battery unless the computer was either off\n",
            "[ 942] (score 0.2164)  Eight Crazy Nights is the thrid back to back unfunny movie(following Little Nicky and Mr Deeds) that\n",
            "[1687] (score 0.2059)  This is the same set we have had for twenty five years. Its reasonably priced and I hope it lasts as\n",
            "\n",
            "===== Skip-gram Model Top 5 Similar Sentences =====\n",
            "[1168] (score 0.9996)  This charger only lacks 1 feature from the Apple model: it lack's Apple's green & orange light aroun\n",
            "[1227] (score 0.9996)  Like every other Mac user, I think the replacement power cord with the bulky, cumbersome block is ov\n",
            "[4156] (score 0.9996)  Carrying on from the mostly instrumental albums of \"The Prison\" & \"The Garden\", we get \"Rays\".Which \n",
            "[1018] (score 0.9996)  St. Louis rapper Nelly hits the airwaves with the first single from his new album \"Nellyville.\" The \n",
            "[4743] (score 0.9996)  I personally like the control that the Zen Xtra gives you in organizing and classifying your music. \n"
          ]
        }
      ]
    }
  ]
}